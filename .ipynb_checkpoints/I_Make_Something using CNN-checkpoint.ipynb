{
 "cells": [
  {
   "cell_type": "code",
   "execution_count": 3,
   "metadata": {},
   "outputs": [
    {
     "name": "stderr",
     "output_type": "stream",
     "text": [
      "Using TensorFlow backend.\n"
     ]
    }
   ],
   "source": [
    "import tensorflow as tf\n",
    "from tensorflow import keras\n",
    "from keras.utils import np_utils  # one hot encoding을 위해\n",
    "from keras.models import Sequential  \n",
    "from keras.layers import Dense, Conv2D, MaxPooling2D, Dropout, Flatten\n",
    "from keras.callbacks import ModelCheckpoint, EarlyStopping\n",
    "import numpy as np\n",
    "import matplotlib.pyplot as plt\n",
    "import cv2\n",
    "import os"
   ]
  },
  {
   "cell_type": "code",
   "execution_count": 2,
   "metadata": {},
   "outputs": [],
   "source": [
    "train_list , test_list = [], []\n",
    "\n",
    "with open('Capstone_Design/train.txt') as f:\n",
    "    for line in f:\n",
    "        tmp = line.strip().split()\n",
    "        #설명: tmp[0]에는 42000번 경로를 저장하고, tmp[1]에는 42000번 클래스 번호를 저장한다.\n",
    "        train_list.append([tmp[0], tmp[1]])\n",
    "        \n",
    "#설명: train_list[0][0] 에 mnist jpg사진의 경로+사진이름이 담겨있고, train_list[0][1]에 클래스 번호가 있다.\n",
    "#설명: 배열은 train_list[42000][1] 까지 있을 것. 총 train 사진이 42000개다. \n",
    "\n",
    "#for i in train_list:\n",
    "#   print(i)\n",
    "#설명: 한 번 제대로 저장되었는지 나열해봤다.\n",
    "    \n",
    "    \n",
    "with open('Capstone_Design/test.txt') as f:\n",
    "    for line in f:\n",
    "        tmp = line.strip().split()\n",
    "        test_list.append([tmp[0], tmp[1]])\n",
    "        \n",
    "#설명: 위와 같이 test_list[0][0]에는 검증할 mnist jpg 사진이, test_list[0][1] 에는 클래스 번호가 있다.\n",
    "#설명: test_list[600][1] 까지 있다. test사진은 600장 있다.\n"
   ]
  },
  {
   "cell_type": "code",
   "execution_count": 3,
   "metadata": {},
   "outputs": [],
   "source": [
    "def readimg(path):\n",
    "    img=cv2.imread(path,cv2.IMREAD_GRAYSCALE)\n",
    "    #img = plt.imread(path, cv2.IMREAD_GRAYSCALE)\n",
    "    #img=np.reshape(img, [-1, 784]) # 이거 하면 1차원으로 늘려주는건데, 일단 안썼다. mnist.data_load 예제랑 똑같이 하려고.\n",
    "    return img\n",
    "\n",
    "X_train = [] # 학습할때이미지세트가 담길 배열이다.  (총 42000장)\n",
    "X_validation = []  # 검증할 이미지세트가 담길 배열이다.  (총 600장)\n",
    "\n",
    "Y_train = [] # 학습할때 쓸 클래스 숫자가 담긴 배열이다.   (총 42000장)\n",
    "Y_validation = [] # 검증할때 쓸 클래스 숫자가 담긴 배열이다. (총 600장)\n",
    "\n",
    "for i in range(42000):    \n",
    "    X_train.append(readimg(train_list[i][0]))  # X_train에 이미지 저장\n",
    "    Y_train.insert(i, int(train_list[i][1]))   # Y_train에 클래스 숫자 저장 \n",
    "\n",
    "for i in range(600):    \n",
    "    X_validation.append(readimg(test_list[i][0])) # X_validation에 이미지 저장\n",
    "    Y_validation.insert(i, int(test_list[i][1]))  # Y_validation에 클래스 숫자 저장\n",
    "\n",
    "X_train = np.array(X_train)  # 일반 행렬에 넣은걸 numpy 형태로 바꿨음\n",
    "Y_train = np.array(Y_train)\n",
    "X_validation = np.array(X_validation)        \n",
    "Y_validation = np.array(Y_validation)\n",
    "\n",
    "Y_train = Y_train.astype(np.uint8)  # np_int32 형에서 np_uint8 형으로 바꿔줬음.\n",
    "Y_validation = Y_validation.astype(np.uint8)\n",
    "\n",
    "# 이제 X_train[0][0] ~ X_train[0][27] 엔 첫번째 0 을 넣었으니 X_train[1][0] ~ X_train[1][27] 엔 그다음 0,\n",
    "# 그리고 계속가서 X_train[41999][0] ~ X_train[41999][27] 엔 9의 이미지를 저장해보자."
   ]
  },
  {
   "cell_type": "code",
   "execution_count": 4,
   "metadata": {},
   "outputs": [],
   "source": [
    "MODEL_SAVE_FOLDER_PATH = './model_CNN/'\n",
    "\n",
    "if not os.path.exists(MODEL_SAVE_FOLDER_PATH):\n",
    "  os.mkdir(MODEL_SAVE_FOLDER_PATH)\n",
    "\n",
    "model_path = MODEL_SAVE_FOLDER_PATH + 'mnist-' + '{epoch:02d}-{val_loss:.4f}.hdf5'\n",
    "\n",
    "cb_checkpoint = ModelCheckpoint(filepath=model_path, monitor='val_loss',\n",
    "                                verbose=1, save_best_only=True)\n",
    "\n",
    "cb_early_stopping = EarlyStopping(monitor='val_loss', patience=10)"
   ]
  },
  {
   "cell_type": "code",
   "execution_count": 5,
   "metadata": {},
   "outputs": [],
   "source": [
    "X_train = X_train.reshape(X_train.shape[0], 28, 28, 1).astype('float32') / 255\n",
    "X_validation = X_validation.reshape(X_validation.shape[0], 28, 28, 1).astype('float32') / 255\n",
    "\n",
    "Y_train = np_utils.to_categorical(Y_train, 10)\n",
    "Y_validation = np_utils.to_categorical(Y_validation, 10)"
   ]
  },
  {
   "cell_type": "code",
   "execution_count": 4,
   "metadata": {},
   "outputs": [],
   "source": [
    "model = Sequential()\n",
    "model.add(Conv2D(32, kernel_size=(3, 3), input_shape=(28, 28, 1), activation='relu'))\n",
    "model.add(Conv2D(64, (3, 3), activation='relu'))\n",
    "model.add(MaxPooling2D(pool_size=2))\n",
    "model.add(Dropout(0.25))\n",
    "model.add(Flatten())\n",
    "model.add(Dense(128, activation='relu'))\n",
    "model.add(Dropout(0.5))\n",
    "model.add(Dense(10, activation='softmax'))"
   ]
  },
  {
   "cell_type": "code",
   "execution_count": 5,
   "metadata": {},
   "outputs": [
    {
     "name": "stdout",
     "output_type": "stream",
     "text": [
      "Model: \"sequential_1\"\n",
      "_________________________________________________________________\n",
      "Layer (type)                 Output Shape              Param #   \n",
      "=================================================================\n",
      "conv2d_1 (Conv2D)            (None, 26, 26, 32)        320       \n",
      "_________________________________________________________________\n",
      "conv2d_2 (Conv2D)            (None, 24, 24, 64)        18496     \n",
      "_________________________________________________________________\n",
      "max_pooling2d_1 (MaxPooling2 (None, 12, 12, 64)        0         \n",
      "_________________________________________________________________\n",
      "dropout_1 (Dropout)          (None, 12, 12, 64)        0         \n",
      "_________________________________________________________________\n",
      "flatten_1 (Flatten)          (None, 9216)              0         \n",
      "_________________________________________________________________\n",
      "dense_1 (Dense)              (None, 128)               1179776   \n",
      "_________________________________________________________________\n",
      "dropout_2 (Dropout)          (None, 128)               0         \n",
      "_________________________________________________________________\n",
      "dense_2 (Dense)              (None, 10)                1290      \n",
      "=================================================================\n",
      "Total params: 1,199,882\n",
      "Trainable params: 1,199,882\n",
      "Non-trainable params: 0\n",
      "_________________________________________________________________\n"
     ]
    }
   ],
   "source": [
    "model.compile(loss='categorical_crossentropy',\n",
    "              optimizer='adam',\n",
    "              metrics=['accuracy'])\n",
    "\n",
    "model.summary()"
   ]
  },
  {
   "cell_type": "code",
   "execution_count": 9,
   "metadata": {},
   "outputs": [
    {
     "name": "stdout",
     "output_type": "stream",
     "text": [
      "\n",
      "Epoch 00001: val_loss improved from inf to 0.05339, saving model to ./model_CNN/mnist-01-0.0534.hdf5\n",
      "\n",
      "Epoch 00002: val_loss improved from 0.05339 to 0.02703, saving model to ./model_CNN/mnist-02-0.0270.hdf5\n",
      "\n",
      "Epoch 00003: val_loss improved from 0.02703 to 0.02239, saving model to ./model_CNN/mnist-03-0.0224.hdf5\n",
      "\n",
      "Epoch 00004: val_loss improved from 0.02239 to 0.01709, saving model to ./model_CNN/mnist-04-0.0171.hdf5\n",
      "\n",
      "Epoch 00005: val_loss improved from 0.01709 to 0.01425, saving model to ./model_CNN/mnist-05-0.0142.hdf5\n",
      "\n",
      "Epoch 00006: val_loss improved from 0.01425 to 0.00784, saving model to ./model_CNN/mnist-06-0.0078.hdf5\n",
      "\n",
      "Epoch 00007: val_loss improved from 0.00784 to 0.00511, saving model to ./model_CNN/mnist-07-0.0051.hdf5\n",
      "\n",
      "Epoch 00008: val_loss did not improve from 0.00511\n",
      "\n",
      "Epoch 00009: val_loss improved from 0.00511 to 0.00507, saving model to ./model_CNN/mnist-09-0.0051.hdf5\n",
      "\n",
      "Epoch 00010: val_loss improved from 0.00507 to 0.00342, saving model to ./model_CNN/mnist-10-0.0034.hdf5\n",
      "\n",
      "Epoch 00011: val_loss did not improve from 0.00342\n",
      "\n",
      "Epoch 00012: val_loss did not improve from 0.00342\n",
      "\n",
      "Epoch 00013: val_loss improved from 0.00342 to 0.00195, saving model to ./model_CNN/mnist-13-0.0019.hdf5\n",
      "\n",
      "Epoch 00014: val_loss did not improve from 0.00195\n",
      "\n",
      "Epoch 00015: val_loss did not improve from 0.00195\n",
      "\n",
      "Epoch 00016: val_loss improved from 0.00195 to 0.00177, saving model to ./model_CNN/mnist-16-0.0018.hdf5\n",
      "\n",
      "Epoch 00017: val_loss did not improve from 0.00177\n",
      "\n",
      "Epoch 00018: val_loss did not improve from 0.00177\n",
      "\n",
      "Epoch 00019: val_loss improved from 0.00177 to 0.00145, saving model to ./model_CNN/mnist-19-0.0015.hdf5\n",
      "\n",
      "Epoch 00020: val_loss improved from 0.00145 to 0.00089, saving model to ./model_CNN/mnist-20-0.0009.hdf5\n",
      "\n",
      "Epoch 00021: val_loss did not improve from 0.00089\n",
      "\n",
      "Epoch 00022: val_loss did not improve from 0.00089\n",
      "\n",
      "Epoch 00023: val_loss did not improve from 0.00089\n",
      "\n",
      "Epoch 00024: val_loss improved from 0.00089 to 0.00068, saving model to ./model_CNN/mnist-24-0.0007.hdf5\n",
      "\n",
      "Epoch 00025: val_loss improved from 0.00068 to 0.00038, saving model to ./model_CNN/mnist-25-0.0004.hdf5\n",
      "\n",
      "Epoch 00026: val_loss did not improve from 0.00038\n",
      "\n",
      "Epoch 00027: val_loss improved from 0.00038 to 0.00017, saving model to ./model_CNN/mnist-27-0.0002.hdf5\n",
      "\n",
      "Epoch 00028: val_loss did not improve from 0.00017\n",
      "\n",
      "Epoch 00029: val_loss did not improve from 0.00017\n",
      "\n",
      "Epoch 00030: val_loss improved from 0.00017 to 0.00016, saving model to ./model_CNN/mnist-30-0.0002.hdf5\n",
      "\n",
      "Epoch 00031: val_loss did not improve from 0.00016\n",
      "\n",
      "Epoch 00032: val_loss did not improve from 0.00016\n",
      "\n",
      "Epoch 00033: val_loss did not improve from 0.00016\n",
      "\n",
      "Epoch 00034: val_loss did not improve from 0.00016\n",
      "\n",
      "Epoch 00035: val_loss improved from 0.00016 to 0.00008, saving model to ./model_CNN/mnist-35-0.0001.hdf5\n",
      "\n",
      "Epoch 00036: val_loss improved from 0.00008 to 0.00004, saving model to ./model_CNN/mnist-36-0.0000.hdf5\n",
      "\n",
      "Epoch 00037: val_loss did not improve from 0.00004\n",
      "\n",
      "Epoch 00038: val_loss did not improve from 0.00004\n",
      "\n",
      "Epoch 00039: val_loss did not improve from 0.00004\n",
      "\n",
      "Epoch 00040: val_loss did not improve from 0.00004\n",
      "\n",
      "Epoch 00041: val_loss did not improve from 0.00004\n",
      "\n",
      "Epoch 00042: val_loss did not improve from 0.00004\n",
      "\n",
      "Epoch 00043: val_loss did not improve from 0.00004\n",
      "\n",
      "Epoch 00044: val_loss did not improve from 0.00004\n",
      "\n",
      "Epoch 00045: val_loss did not improve from 0.00004\n",
      "\n",
      "Epoch 00046: val_loss did not improve from 0.00004\n",
      "600/600 [==============================] - 0s 800us/step\n",
      "\n",
      "Accuracy: 1.0000\n"
     ]
    }
   ],
   "source": [
    "history = model.fit(X_train, Y_train,\n",
    "                    validation_data=(X_validation, Y_validation),\n",
    "                    epochs=100, batch_size=200, verbose=0,\n",
    "                    callbacks=[cb_checkpoint, cb_early_stopping])\n",
    "\n",
    "print('\\nAccuracy: {:.4f}'.format(model.evaluate(X_validation, Y_validation)[1]))"
   ]
  },
  {
   "cell_type": "code",
   "execution_count": 10,
   "metadata": {},
   "outputs": [
    {
     "data": {
      "image/png": "[encoded data removed]",
      "text/plain": [
       "<Figure size 432x288 with 1 Axes>"
      ]
     },
     "metadata": {
      "needs_background": "light"
     },
     "output_type": "display_data"
    }
   ],
   "source": [
    "y_vloss = history.history['val_loss']\n",
    "y_loss = history.history['loss']\n",
    "\n",
    "x_len = np.arange(len(y_loss))\n",
    "plt.plot(x_len, y_loss, marker='.', c='blue', label=\"Train-set Loss\")\n",
    "plt.plot(x_len, y_vloss, marker='.', c='red', label=\"Validation-set Loss\")\n",
    "\n",
    "plt.legend(loc='upper right')\n",
    "plt.grid()\n",
    "plt.xlabel('epoch')\n",
    "plt.ylabel('loss')\n",
    "plt.show()"
   ]
  },
  {
   "cell_type": "code",
   "execution_count": 11,
   "metadata": {},
   "outputs": [
    {
     "name": "stdout",
     "output_type": "stream",
     "text": [
      "복원된 모델의 정확도: 100.00%\n"
     ]
    }
   ],
   "source": [
    "loss, acc = model.evaluate(X_validation, Y_validation, verbose=2)\n",
    "print(\"복원된 모델의 정확도: {:5.2f}%\".format(100*acc))"
   ]
  },
  {
   "cell_type": "code",
   "execution_count": null,
   "metadata": {},
   "outputs": [],
   "source": []
  }
 ],
 "metadata": {
  "kernelspec": {
   "display_name": "Python 3",
   "language": "python",
   "name": "python3"
  },
  "language_info": {
   "codemirror_mode": {
    "name": "ipython",
    "version": 3
   },
   "file_extension": ".py",
   "mimetype": "text/x-python",
   "name": "python",
   "nbconvert_exporter": "python",
   "pygments_lexer": "ipython3",
   "version": "3.7.5"
  }
 },
 "nbformat": 4,
 "nbformat_minor": 2
}
